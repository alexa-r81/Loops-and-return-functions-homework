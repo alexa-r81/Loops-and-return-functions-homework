{
 "cells": [
  {
   "cell_type": "code",
   "execution_count": 10,
   "id": "ea860799",
   "metadata": {},
   "outputs": [],
   "source": [
    "#list datatype\n",
    "#never name a list list\n",
    "\n",
    "#declare a list variable and populate it with test scores\n",
    "test_scores = [22, 99, 102, 33, 57, 75, 100, 81, 62, 29]"
   ]
  },
  {
   "cell_type": "code",
   "execution_count": 11,
   "id": "4ae7a0b0",
   "metadata": {},
   "outputs": [
    {
     "name": "stdout",
     "output_type": "stream",
     "text": [
      "660\n",
      "66.0\n"
     ]
    }
   ],
   "source": [
    "#define function that returns sum\n",
    "def get_sum(num_list):\n",
    "    #initialize sum\n",
    "    sum = 0\n",
    "    #add each test score to sum\n",
    "    #for loop that loops through list\n",
    "    for x in num_list:\n",
    "        sum = sum + x\n",
    "    return(sum)\n",
    "\n",
    "sum = get_sum(test_scores)\n",
    "print(sum)\n",
    "#get n\n",
    "n = len(test_scores)\n",
    "#divide sum by n to get mean\n",
    "mean = sum/n\n",
    "print(mean)"
   ]
  },
  {
   "cell_type": "code",
   "execution_count": 84,
   "id": "f8b9973b",
   "metadata": {},
   "outputs": [],
   "source": [
    "def do_homework(num_list):\n",
    "    #mean\n",
    "    sum = get_sum(num_list)\n",
    "    n = len(num_list)\n",
    "    mean = sum/n\n",
    "    #initialize an empty list\n",
    "    delta_mean_list = []\n",
    "    for i in num_list:\n",
    "        d_mean = i - mean\n",
    "        delta_mean_list.append(d_mean)\n",
    "    #delta mean sqrd list\n",
    "    delta_mean_squared_list = []\n",
    "    for d_mean in delta_mean_list:\n",
    "        d_mean_sqrd = d_mean**2  #asign d_mean squared to variable\n",
    "        delta_mean_squared_list.append(d_mean_sqrd)\n",
    "    delta_mean_squared_sum = get_sum(delta_mean_squared_list)\n",
    "    variance = delta_mean_squared_sum/n\n",
    "    standard_deviation = math.sqrt(variance)\n",
    "    return mean, standard_deviation\n"
   ]
  },
  {
   "cell_type": "code",
   "execution_count": 19,
   "id": "5745ee1d",
   "metadata": {},
   "outputs": [],
   "source": [
    "home_runs = [51, 48, 47, 46, 45, 43, 41, 40, 40, 39]"
   ]
  },
  {
   "cell_type": "code",
   "execution_count": 67,
   "id": "366f2559",
   "metadata": {},
   "outputs": [],
   "source": [
    "def do_range(num_list):\n",
    "    #mean\n",
    "    sum = get_sum(num_list)\n",
    "    n = len(num_list)\n",
    "    mean = sum/n\n",
    "    #initialize an empty list\n",
    "    delta_mean_list = []\n",
    "    for i in num_list:\n",
    "        d_mean = i - mean\n",
    "        delta_mean_list.append(d_mean)\n",
    "    #delta mean sqrd list\n",
    "    delta_mean_squared_list = []\n",
    "    for d_mean in delta_mean_list:\n",
    "        d_mean_sqrd = d_mean**2\n",
    "        delta_mean_squared_list.append(d_mean_sqrd)\n",
    "    delta_mean_squared_sum = get_sum(delta_mean_squared_list)\n",
    "    variance = delta_mean_squared_sum/n\n",
    "    standard_deviation = math.sqrt(variance)\n",
    "    \n",
    "    \n",
    "    return mean - standard_deviation, mean + standard_deviation "
   ]
  },
  {
   "cell_type": "code",
   "execution_count": 82,
   "id": "f492475c",
   "metadata": {
    "scrolled": false
   },
   "outputs": [
    {
     "ename": "SyntaxError",
     "evalue": "invalid syntax (4143191326.py, line 4)",
     "output_type": "error",
     "traceback": [
      "\u001b[0;36m  Input \u001b[0;32mIn [82]\u001b[0;36m\u001b[0m\n\u001b[0;31m    def do_median(num_list)\u001b[0m\n\u001b[0m                           ^\u001b[0m\n\u001b[0;31mSyntaxError\u001b[0m\u001b[0;31m:\u001b[0m invalid syntax\n"
     ]
    }
   ],
   "source": [
    "#test_scores = test_scores.sort()\n",
    "import numpy as np\n",
    "    #calculate median <- needs fixing\n",
    "    num_list = list(np.sort(num_list))\n",
    "    median_index = int(math.celi(len(num_list)/2)\n",
    "    median = num_list[median_index]\n",
    "    return median"
   ]
  },
  {
   "cell_type": "code",
   "execution_count": 88,
   "id": "1b799a9b",
   "metadata": {},
   "outputs": [],
   "source": [
    "phone_prices = [35, 50, 60, 60, 75, 65, 80]"
   ]
  },
  {
   "cell_type": "code",
   "execution_count": 89,
   "id": "55a238ce",
   "metadata": {},
   "outputs": [
    {
     "data": {
      "text/plain": [
       "(46.71720146981041, 74.71136995876103)"
      ]
     },
     "execution_count": 89,
     "metadata": {},
     "output_type": "execute_result"
    }
   ],
   "source": [
    "do_range(phone_prices)"
   ]
  },
  {
   "cell_type": "code",
   "execution_count": 104,
   "id": "f6bb9672",
   "metadata": {},
   "outputs": [
    {
     "name": "stdout",
     "output_type": "stream",
     "text": [
      "mean: 66.0\n",
      " median: 68.5\n",
      " SD: 28.875595231960155\n",
      "\n",
      "mean: 60.714285714285715\n",
      " median: 60.0\n",
      " SD: 13.997084244475303\n",
      "\n",
      "mean: 44.0\n",
      " median: 44.0\n",
      " SD: 3.82099463490856\n",
      "\n",
      "mean: 7.2\n",
      " median: 7.0\n",
      " SD: 3.5440090293338704\n",
      "\n",
      "mean: 114.44444444444444\n",
      " median: 110.0\n",
      " SD: 10.122703976826998\n",
      "\n"
     ]
    },
    {
     "data": {
      "text/plain": [
       "(0    114.444444\n",
       " dtype: float64,\n",
       " 0    110.0\n",
       " dtype: float64,\n",
       " 0    10.122704\n",
       " dtype: float64)"
      ]
     },
     "execution_count": 104,
     "metadata": {},
     "output_type": "execute_result"
    }
   ],
   "source": [
    "import pandas as pd\n",
    "def do_homework_quickly(num_list):\n",
    "    df = pd.DataFrame(num_list)\n",
    "    mean = df.mean()\n",
    "    median = df.median()\n",
    "    sd = df.std(ddof=0)\n",
    "    print('mean: {}\\n median: {}\\n SD: {}\\n'.format(mean[0], median[0], sd[0]))\n",
    "    return(mean, median, sd)\n",
    "\n",
    "do_homework_quickly(test_scores)\n",
    "do_homework_quickly([35, 50, 60, 60, 75, 65, 80])\n",
    "do_homework_quickly([51, 48, 47, 46, 45, 43, 41, 40, 40, 39])\n",
    "do_homework_quickly([2, 3, 3, 4, 4, 6, 7, 7, 8, 8, 8, 10, 11, 13, 14])\n",
    "do_homework_quickly([100, 105, 110, 110, 110, 115, 120, 125, 135])"
   ]
  },
  {
   "cell_type": "code",
   "execution_count": null,
   "id": "a7921a50",
   "metadata": {},
   "outputs": [],
   "source": []
  }
 ],
 "metadata": {
  "kernelspec": {
   "display_name": "Python 3 (ipykernel)",
   "language": "python",
   "name": "python3"
  },
  "language_info": {
   "codemirror_mode": {
    "name": "ipython",
    "version": 3
   },
   "file_extension": ".py",
   "mimetype": "text/x-python",
   "name": "python",
   "nbconvert_exporter": "python",
   "pygments_lexer": "ipython3",
   "version": "3.9.12"
  }
 },
 "nbformat": 4,
 "nbformat_minor": 5
}
